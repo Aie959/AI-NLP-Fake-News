{
  "nbformat": 4,
  "nbformat_minor": 0,
  "metadata": {
    "colab": {
      "name": "xct635_Group1_N-Gram.ipynb",
      "provenance": [],
      "collapsed_sections": []
    },
    "kernelspec": {
      "name": "python3",
      "display_name": "Python 3"
    }
  },
  "cells": [
    {
      "cell_type": "markdown",
      "source": [
        "#Introduction\n",
        "\n",
        "This Colab Notebook is the work and submission of Zain Momin, part of Group 1 for the CS 3793.001 Artificial Intelligence Group Projects of the Spring 2022 semester.\n",
        "\n",
        "This NLP model will leverage a Count Vectorizer to vectorizer the text from the Kaggle data set. Once the data is vectorized the final N-Gram model will classify wach article assigning it a value of fake news or not fake news.\n"
      ],
      "metadata": {
        "id": "xIoGtgMwQdvW"
      }
    },
    {
      "cell_type": "markdown",
      "metadata": {
        "id": "9wUL_Fy5qUDI"
      },
      "source": [
        "#IMPORTED LIBRARIES\n",
        "\n",
        "\n",
        "\n"
      ]
    },
    {
      "cell_type": "code",
      "metadata": {
        "id": "f9apbZGptej6",
        "colab": {
          "base_uri": "https://localhost:8080/"
        },
        "outputId": "f0f72c76-b542-49fb-977a-0c568ffa75f0"
      },
      "source": [
        "#Import libraries and connect to google drive\n",
        "import pandas as pd\n",
        "import numpy as np\n",
        "import matplotlib.pyplot as plt\n",
        "import itertools\n",
        "import string\n",
        "\n",
        "import nltk\n",
        "nltk.download('stopwords')\n",
        "nltk.download('punkt')\n",
        "nltk.download('wordnet')\n",
        "from nltk.corpus import stopwords\n",
        "from nltk.tokenize import word_tokenize\n",
        "from nltk.stem.porter import PorterStemmer\n",
        "\n",
        "from sklearn.model_selection import train_test_split\n",
        "from sklearn.feature_extraction.text import CountVectorizer, TfidfVectorizer\n",
        "\n",
        "from sklearn.neighbors import KNeighborsClassifier\n",
        "from sklearn.metrics import accuracy_score, confusion_matrix\n",
        "\n",
        "from google.colab import drive\n",
        "drive.mount('/content/drive')\n"
      ],
      "execution_count": 58,
      "outputs": [
        {
          "output_type": "stream",
          "name": "stdout",
          "text": [
            "[nltk_data] Downloading package stopwords to /root/nltk_data...\n",
            "[nltk_data]   Package stopwords is already up-to-date!\n",
            "[nltk_data] Downloading package punkt to /root/nltk_data...\n",
            "[nltk_data]   Package punkt is already up-to-date!\n",
            "[nltk_data] Downloading package wordnet to /root/nltk_data...\n",
            "[nltk_data]   Package wordnet is already up-to-date!\n",
            "Drive already mounted at /content/drive; to attempt to forcibly remount, call drive.mount(\"/content/drive\", force_remount=True).\n"
          ]
        }
      ]
    },
    {
      "cell_type": "code",
      "source": [
        "#Import model specific resources or libraries"
      ],
      "metadata": {
        "id": "z43fKB6Ey5nH"
      },
      "execution_count": 3,
      "outputs": []
    },
    {
      "cell_type": "code",
      "metadata": {
        "id": "fdqXyFZ95P0j"
      },
      "source": [
        "#The basepath is the same as what it is in the class assignments for simplicity\n",
        "basePath = \"/content/drive/My Drive/Colab Notebooks/Artificial Intelligence/Data/\""
      ],
      "execution_count": 4,
      "outputs": []
    },
    {
      "cell_type": "markdown",
      "source": [
        "##Data files used, and how the files are structured\n",
        "\n",
        "The Dataset used for this Machine Learning Model is a Kaggle Dataset consisting of Fake and Real news articles, formatted in 'csv' files. \n",
        "\n",
        "The link to the dataset is: https://www.kaggle.com/c/fake-news/data?select=test.csv\n",
        "\n",
        "Downloading the dataset will give you two file \"train.csv\" and \"test.csv\". For simplicities sake, the contents of both datasets will get combined into one larger data set in which the Model will be trained and tested with.\n",
        "\n",
        "As shown above, during the making of this Notebook the train and test csv files where loaded into the base path directory that was usued for all class assignment. This was done for consistancy with the class and for simplicity."
      ],
      "metadata": {
        "id": "P0jDiHoVfNkx"
      }
    },
    {
      "cell_type": "code",
      "metadata": {
        "id": "2XoSqVJG5FkG"
      },
      "source": [
        "# Data file name variables\n",
        "train = basePath + \"train.csv\"\n",
        "test = basePath + \"test.csv\""
      ],
      "execution_count": 5,
      "outputs": []
    },
    {
      "cell_type": "markdown",
      "source": [
        "The CSV files come foramtted with 5 total columns. The columns are 'id', 'title', 'author', 'text', and 'label'. \n",
        "\n",
        "    ID: The designation number of the article in the file\n",
        "    Title: Title of the associated news article\n",
        "    Author: Person who wrote the News article\n",
        "    Text: All words of the news article \n",
        "    Label: Designation of whether the news article is reliable or unreliable. O means unreliable, 1 means reliable. (These essentially refer to Fake or Real)\n",
        "\n",
        "'Train.csv' has 20799 rows in it by default. 'Test.csv' has 25999 rows in it by default."
      ],
      "metadata": {
        "id": "xF9DLSp5gK0z"
      }
    },
    {
      "cell_type": "markdown",
      "source": [
        "##Formatting the Data\n",
        "\n",
        "In order to use data of the files, it has to be prepared and formatted in a certain manner. This invovles scrubbing the id, title, and author columns from the both datasets. Also, any rows with NAN values need to be removed entirely as they are unsuitable. \n",
        "\n",
        "The next step involves combining the contents of the train and test datasets into one final dataset that will be used for the Machine Learning portion of the notebook."
      ],
      "metadata": {
        "id": "9UffZDIz2bBR"
      }
    },
    {
      "cell_type": "code",
      "metadata": {
        "id": "l73PTZtCPdxj",
        "colab": {
          "base_uri": "https://localhost:8080/",
          "height": 335
        },
        "outputId": "7c3bd9c0-ffb6-4e40-df78-459da5d61a08"
      },
      "source": [
        "# 0 = reliable, 1 = unreliable\n",
        "\n",
        "# Read the training file\n",
        "data_train = pd.read_csv( train )\n",
        "data_train = data_train.drop(['id','author','title'], 1)\n",
        "data_train.dropna( inplace=True) \n",
        "data_train.reset_index(inplace = True, drop = True)\n",
        "print( data_train.shape )\n",
        "\n",
        "# Read the testing data file\n",
        "data_test  = pd.read_csv( test )\n",
        "data_test = data_test.drop(['id','author','title'], 1)\n",
        "data_test.dropna( inplace=True) \n",
        "data_test = data_test.loc[ :, :'label']\n",
        "data_test.reset_index(inplace = True, drop = True)\n",
        "print( data_test.shape )\n",
        "\n",
        "# Combine both train and test datasets into a final dataset which is used later on\n",
        "dataset = pd.concat( [data_train, data_test], ignore_index=True)\n",
        "print( dataset.shape)\n",
        "dataset.head()"
      ],
      "execution_count": 28,
      "outputs": [
        {
          "output_type": "stream",
          "name": "stderr",
          "text": [
            "/usr/local/lib/python3.7/dist-packages/ipykernel_launcher.py:5: FutureWarning: In a future version of pandas all arguments of DataFrame.drop except for the argument 'labels' will be keyword-only\n",
            "  \"\"\"\n"
          ]
        },
        {
          "output_type": "stream",
          "name": "stdout",
          "text": [
            "(20800, 2)\n",
            "(5200, 0)\n",
            "(26000, 2)\n"
          ]
        },
        {
          "output_type": "stream",
          "name": "stderr",
          "text": [
            "/usr/local/lib/python3.7/dist-packages/ipykernel_launcher.py:12: FutureWarning: In a future version of pandas all arguments of DataFrame.drop except for the argument 'labels' will be keyword-only\n",
            "  if sys.path[0] == '':\n"
          ]
        },
        {
          "output_type": "execute_result",
          "data": {
            "text/plain": [
              "                                                text  label\n",
              "0  House Dem Aide: We Didn’t Even See Comey’s Let...    1.0\n",
              "1  Ever get the feeling your life circles the rou...    0.0\n",
              "2  Why the Truth Might Get You Fired October 29, ...    1.0\n",
              "3  Videos 15 Civilians Killed In Single US Airstr...    1.0\n",
              "4  Print \\nAn Iranian woman has been sentenced to...    1.0"
            ],
            "text/html": [
              "\n",
              "  <div id=\"df-58b1ffaa-724b-4c7c-a372-61ce1b849a34\">\n",
              "    <div class=\"colab-df-container\">\n",
              "      <div>\n",
              "<style scoped>\n",
              "    .dataframe tbody tr th:only-of-type {\n",
              "        vertical-align: middle;\n",
              "    }\n",
              "\n",
              "    .dataframe tbody tr th {\n",
              "        vertical-align: top;\n",
              "    }\n",
              "\n",
              "    .dataframe thead th {\n",
              "        text-align: right;\n",
              "    }\n",
              "</style>\n",
              "<table border=\"1\" class=\"dataframe\">\n",
              "  <thead>\n",
              "    <tr style=\"text-align: right;\">\n",
              "      <th></th>\n",
              "      <th>text</th>\n",
              "      <th>label</th>\n",
              "    </tr>\n",
              "  </thead>\n",
              "  <tbody>\n",
              "    <tr>\n",
              "      <th>0</th>\n",
              "      <td>House Dem Aide: We Didn’t Even See Comey’s Let...</td>\n",
              "      <td>1.0</td>\n",
              "    </tr>\n",
              "    <tr>\n",
              "      <th>1</th>\n",
              "      <td>Ever get the feeling your life circles the rou...</td>\n",
              "      <td>0.0</td>\n",
              "    </tr>\n",
              "    <tr>\n",
              "      <th>2</th>\n",
              "      <td>Why the Truth Might Get You Fired October 29, ...</td>\n",
              "      <td>1.0</td>\n",
              "    </tr>\n",
              "    <tr>\n",
              "      <th>3</th>\n",
              "      <td>Videos 15 Civilians Killed In Single US Airstr...</td>\n",
              "      <td>1.0</td>\n",
              "    </tr>\n",
              "    <tr>\n",
              "      <th>4</th>\n",
              "      <td>Print \\nAn Iranian woman has been sentenced to...</td>\n",
              "      <td>1.0</td>\n",
              "    </tr>\n",
              "  </tbody>\n",
              "</table>\n",
              "</div>\n",
              "      <button class=\"colab-df-convert\" onclick=\"convertToInteractive('df-58b1ffaa-724b-4c7c-a372-61ce1b849a34')\"\n",
              "              title=\"Convert this dataframe to an interactive table.\"\n",
              "              style=\"display:none;\">\n",
              "        \n",
              "  <svg xmlns=\"http://www.w3.org/2000/svg\" height=\"24px\"viewBox=\"0 0 24 24\"\n",
              "       width=\"24px\">\n",
              "    <path d=\"M0 0h24v24H0V0z\" fill=\"none\"/>\n",
              "    <path d=\"M18.56 5.44l.94 2.06.94-2.06 2.06-.94-2.06-.94-.94-2.06-.94 2.06-2.06.94zm-11 1L8.5 8.5l.94-2.06 2.06-.94-2.06-.94L8.5 2.5l-.94 2.06-2.06.94zm10 10l.94 2.06.94-2.06 2.06-.94-2.06-.94-.94-2.06-.94 2.06-2.06.94z\"/><path d=\"M17.41 7.96l-1.37-1.37c-.4-.4-.92-.59-1.43-.59-.52 0-1.04.2-1.43.59L10.3 9.45l-7.72 7.72c-.78.78-.78 2.05 0 2.83L4 21.41c.39.39.9.59 1.41.59.51 0 1.02-.2 1.41-.59l7.78-7.78 2.81-2.81c.8-.78.8-2.07 0-2.86zM5.41 20L4 18.59l7.72-7.72 1.47 1.35L5.41 20z\"/>\n",
              "  </svg>\n",
              "      </button>\n",
              "      \n",
              "  <style>\n",
              "    .colab-df-container {\n",
              "      display:flex;\n",
              "      flex-wrap:wrap;\n",
              "      gap: 12px;\n",
              "    }\n",
              "\n",
              "    .colab-df-convert {\n",
              "      background-color: #E8F0FE;\n",
              "      border: none;\n",
              "      border-radius: 50%;\n",
              "      cursor: pointer;\n",
              "      display: none;\n",
              "      fill: #1967D2;\n",
              "      height: 32px;\n",
              "      padding: 0 0 0 0;\n",
              "      width: 32px;\n",
              "    }\n",
              "\n",
              "    .colab-df-convert:hover {\n",
              "      background-color: #E2EBFA;\n",
              "      box-shadow: 0px 1px 2px rgba(60, 64, 67, 0.3), 0px 1px 3px 1px rgba(60, 64, 67, 0.15);\n",
              "      fill: #174EA6;\n",
              "    }\n",
              "\n",
              "    [theme=dark] .colab-df-convert {\n",
              "      background-color: #3B4455;\n",
              "      fill: #D2E3FC;\n",
              "    }\n",
              "\n",
              "    [theme=dark] .colab-df-convert:hover {\n",
              "      background-color: #434B5C;\n",
              "      box-shadow: 0px 1px 3px 1px rgba(0, 0, 0, 0.15);\n",
              "      filter: drop-shadow(0px 1px 2px rgba(0, 0, 0, 0.3));\n",
              "      fill: #FFFFFF;\n",
              "    }\n",
              "  </style>\n",
              "\n",
              "      <script>\n",
              "        const buttonEl =\n",
              "          document.querySelector('#df-58b1ffaa-724b-4c7c-a372-61ce1b849a34 button.colab-df-convert');\n",
              "        buttonEl.style.display =\n",
              "          google.colab.kernel.accessAllowed ? 'block' : 'none';\n",
              "\n",
              "        async function convertToInteractive(key) {\n",
              "          const element = document.querySelector('#df-58b1ffaa-724b-4c7c-a372-61ce1b849a34');\n",
              "          const dataTable =\n",
              "            await google.colab.kernel.invokeFunction('convertToInteractive',\n",
              "                                                     [key], {});\n",
              "          if (!dataTable) return;\n",
              "\n",
              "          const docLinkHtml = 'Like what you see? Visit the ' +\n",
              "            '<a target=\"_blank\" href=https://colab.research.google.com/notebooks/data_table.ipynb>data table notebook</a>'\n",
              "            + ' to learn more about interactive tables.';\n",
              "          element.innerHTML = '';\n",
              "          dataTable['output_type'] = 'display_data';\n",
              "          await google.colab.output.renderOutput(dataTable, element);\n",
              "          const docLink = document.createElement('div');\n",
              "          docLink.innerHTML = docLinkHtml;\n",
              "          element.appendChild(docLink);\n",
              "        }\n",
              "      </script>\n",
              "    </div>\n",
              "  </div>\n",
              "  "
            ]
          },
          "metadata": {},
          "execution_count": 28
        }
      ]
    },
    {
      "cell_type": "markdown",
      "source": [
        "#Check the final dataset to make sure it is valid for usage\n",
        "\n",
        "The final dataset that will be used has 2 columns of \"text\" and \"label\". There are about 20762 total rows in the dataset, with about a 50:50 percent split between Fake and Real articles in the set. These statistics are shown below. "
      ],
      "metadata": {
        "id": "8VOrD3uZ3Q8P"
      }
    },
    {
      "cell_type": "code",
      "source": [
        "#graph the total number of fake and real articles in the final dataset\n",
        "real_or_not = dataset.label.value_counts()\n",
        "print( real_or_not )\n",
        "\n",
        "plt.figure()\n",
        "plt.bar( ['0','1'], real_or_not )\n",
        "plt.show()"
      ],
      "metadata": {
        "id": "SVf_Jw4AhduN",
        "colab": {
          "base_uri": "https://localhost:8080/",
          "height": 320
        },
        "outputId": "d14ba16c-840b-4728-8e08-d594e4119b64"
      },
      "execution_count": 26,
      "outputs": [
        {
          "output_type": "stream",
          "name": "stdout",
          "text": [
            "0.0    10387\n",
            "1.0    10374\n",
            "Name: label, dtype: int64\n"
          ]
        },
        {
          "output_type": "display_data",
          "data": {
            "text/plain": [
              "<Figure size 432x288 with 1 Axes>"
            ],
            "image/png": "[encoded data removed]"
          },
          "metadata": {
            "needs_background": "light"
          }
        }
      ]
    },
    {
      "cell_type": "markdown",
      "source": [
        "The dataset is lastly checked so that no NaN values are present. The ouptut of the next cell is empty because there are no NaN values present."
      ],
      "metadata": {
        "id": "ip32DkYHkalb"
      }
    },
    {
      "cell_type": "code",
      "source": [
        "dataset.dropna(inplace=True)\n",
        "dataset[dataset.isnull().any(axis=1)]"
      ],
      "metadata": {
        "colab": {
          "base_uri": "https://localhost:8080/",
          "height": 50
        },
        "id": "AAoZoWt7HK9G",
        "outputId": "3e4fbbe6-f5f5-4211-a986-943956f6edef"
      },
      "execution_count": 31,
      "outputs": [
        {
          "output_type": "execute_result",
          "data": {
            "text/plain": [
              "Empty DataFrame\n",
              "Columns: [text, label]\n",
              "Index: []"
            ],
            "text/html": [
              "\n",
              "  <div id=\"df-9488fea3-44b3-479d-ad27-c9ed49facc35\">\n",
              "    <div class=\"colab-df-container\">\n",
              "      <div>\n",
              "<style scoped>\n",
              "    .dataframe tbody tr th:only-of-type {\n",
              "        vertical-align: middle;\n",
              "    }\n",
              "\n",
              "    .dataframe tbody tr th {\n",
              "        vertical-align: top;\n",
              "    }\n",
              "\n",
              "    .dataframe thead th {\n",
              "        text-align: right;\n",
              "    }\n",
              "</style>\n",
              "<table border=\"1\" class=\"dataframe\">\n",
              "  <thead>\n",
              "    <tr style=\"text-align: right;\">\n",
              "      <th></th>\n",
              "      <th>text</th>\n",
              "      <th>label</th>\n",
              "    </tr>\n",
              "  </thead>\n",
              "  <tbody>\n",
              "  </tbody>\n",
              "</table>\n",
              "</div>\n",
              "      <button class=\"colab-df-convert\" onclick=\"convertToInteractive('df-9488fea3-44b3-479d-ad27-c9ed49facc35')\"\n",
              "              title=\"Convert this dataframe to an interactive table.\"\n",
              "              style=\"display:none;\">\n",
              "        \n",
              "  <svg xmlns=\"http://www.w3.org/2000/svg\" height=\"24px\"viewBox=\"0 0 24 24\"\n",
              "       width=\"24px\">\n",
              "    <path d=\"M0 0h24v24H0V0z\" fill=\"none\"/>\n",
              "    <path d=\"M18.56 5.44l.94 2.06.94-2.06 2.06-.94-2.06-.94-.94-2.06-.94 2.06-2.06.94zm-11 1L8.5 8.5l.94-2.06 2.06-.94-2.06-.94L8.5 2.5l-.94 2.06-2.06.94zm10 10l.94 2.06.94-2.06 2.06-.94-2.06-.94-.94-2.06-.94 2.06-2.06.94z\"/><path d=\"M17.41 7.96l-1.37-1.37c-.4-.4-.92-.59-1.43-.59-.52 0-1.04.2-1.43.59L10.3 9.45l-7.72 7.72c-.78.78-.78 2.05 0 2.83L4 21.41c.39.39.9.59 1.41.59.51 0 1.02-.2 1.41-.59l7.78-7.78 2.81-2.81c.8-.78.8-2.07 0-2.86zM5.41 20L4 18.59l7.72-7.72 1.47 1.35L5.41 20z\"/>\n",
              "  </svg>\n",
              "      </button>\n",
              "      \n",
              "  <style>\n",
              "    .colab-df-container {\n",
              "      display:flex;\n",
              "      flex-wrap:wrap;\n",
              "      gap: 12px;\n",
              "    }\n",
              "\n",
              "    .colab-df-convert {\n",
              "      background-color: #E8F0FE;\n",
              "      border: none;\n",
              "      border-radius: 50%;\n",
              "      cursor: pointer;\n",
              "      display: none;\n",
              "      fill: #1967D2;\n",
              "      height: 32px;\n",
              "      padding: 0 0 0 0;\n",
              "      width: 32px;\n",
              "    }\n",
              "\n",
              "    .colab-df-convert:hover {\n",
              "      background-color: #E2EBFA;\n",
              "      box-shadow: 0px 1px 2px rgba(60, 64, 67, 0.3), 0px 1px 3px 1px rgba(60, 64, 67, 0.15);\n",
              "      fill: #174EA6;\n",
              "    }\n",
              "\n",
              "    [theme=dark] .colab-df-convert {\n",
              "      background-color: #3B4455;\n",
              "      fill: #D2E3FC;\n",
              "    }\n",
              "\n",
              "    [theme=dark] .colab-df-convert:hover {\n",
              "      background-color: #434B5C;\n",
              "      box-shadow: 0px 1px 3px 1px rgba(0, 0, 0, 0.15);\n",
              "      filter: drop-shadow(0px 1px 2px rgba(0, 0, 0, 0.3));\n",
              "      fill: #FFFFFF;\n",
              "    }\n",
              "  </style>\n",
              "\n",
              "      <script>\n",
              "        const buttonEl =\n",
              "          document.querySelector('#df-9488fea3-44b3-479d-ad27-c9ed49facc35 button.colab-df-convert');\n",
              "        buttonEl.style.display =\n",
              "          google.colab.kernel.accessAllowed ? 'block' : 'none';\n",
              "\n",
              "        async function convertToInteractive(key) {\n",
              "          const element = document.querySelector('#df-9488fea3-44b3-479d-ad27-c9ed49facc35');\n",
              "          const dataTable =\n",
              "            await google.colab.kernel.invokeFunction('convertToInteractive',\n",
              "                                                     [key], {});\n",
              "          if (!dataTable) return;\n",
              "\n",
              "          const docLinkHtml = 'Like what you see? Visit the ' +\n",
              "            '<a target=\"_blank\" href=https://colab.research.google.com/notebooks/data_table.ipynb>data table notebook</a>'\n",
              "            + ' to learn more about interactive tables.';\n",
              "          element.innerHTML = '';\n",
              "          dataTable['output_type'] = 'display_data';\n",
              "          await google.colab.output.renderOutput(dataTable, element);\n",
              "          const docLink = document.createElement('div');\n",
              "          docLink.innerHTML = docLinkHtml;\n",
              "          element.appendChild(docLink);\n",
              "        }\n",
              "      </script>\n",
              "    </div>\n",
              "  </div>\n",
              "  "
            ]
          },
          "metadata": {},
          "execution_count": 31
        }
      ]
    },
    {
      "cell_type": "markdown",
      "source": [
        "##Supervised Machine Learning \n",
        "\n",
        "From this point on is where the actual Machine Learning and predictions of the Notebook will occur.\n",
        "\n",
        "The next cell shows a helpful function to display the results of the machine learning in a discenrable manner, taken from this source.\n",
        "\n"
      ],
      "metadata": {
        "id": "u41CZ87okvTM"
      }
    },
    {
      "cell_type": "code",
      "source": [
        "#A helpful function pulled from a website (credited at the end of this Notebook) that will print out the results of the Models processing in a concise and understandable manner.\n",
        "def plot_confusion_matrix(cm, classes,\n",
        "                          normalize=False,\n",
        "                          title='Confusion matrix',\n",
        "                          cmap=plt.cm.Blues):\n",
        "    plt.imshow(cm, interpolation='nearest', cmap=cmap)\n",
        "    plt.title(title)\n",
        "    plt.colorbar()\n",
        "    tick_marks = np.arange(len(classes))\n",
        "    plt.xticks(tick_marks, classes, rotation=45)\n",
        "    plt.yticks(tick_marks, classes)\n",
        "    if normalize:\n",
        "        cm = cm.astype('float') / cm.sum(axis=1)[:, np.newaxis]\n",
        "        print(\"Normalized confusion matrix\")\n",
        "    else:\n",
        "        print('Confusion matrix, without normalization')\n",
        "    thresh = cm.max() / 2.\n",
        "    for i, j in itertools.product(range(cm.shape[0]), range(cm.shape[1])):\n",
        "        plt.text(j, i, cm[i, j],\n",
        "                  horizontalalignment=\"center\",\n",
        "                  color=\"white\" if cm[i, j] > thresh else \"black\")\n",
        "    plt.tight_layout()\n",
        "    plt.ylabel('True label')\n",
        "    plt.xlabel('Predicted label')"
      ],
      "metadata": {
        "id": "8hYsvFoF1Rgl"
      },
      "execution_count": 32,
      "outputs": []
    },
    {
      "cell_type": "markdown",
      "source": [
        "#Split the dataset into testing and training\n",
        "The next cell shows the dataset being partitioned into training, and testing sets ( 80% for training, 20% for testing ) that will be used for the Model."
      ],
      "metadata": {
        "id": "0qNXWPSymn5G"
      }
    },
    {
      "cell_type": "code",
      "source": [
        "# clean the text\n",
        "# removed cleaning used in N-Gram models listed from resources over N-Gram Analysis below in links\n",
        "def clean_text(text):\n",
        "\n",
        "  # go all lower case\n",
        "  text = text.lower()\n",
        "\n",
        "  #remove punctuation\n",
        "  table = str.maketrans('', '', string.punctuation)\n",
        "  text = text.translate(table)\n",
        "  \n",
        "  # remove stemming words \n",
        "  tokens = word_tokenize(text)\n",
        "  porter = PorterStemmer()\n",
        "  stemmed_words = [porter.stem(word) for word in tokens]\n",
        "  words = [w for w in stemmed_words if not w in stopwords.words('english')]\n",
        "\n",
        "  text = ' '.join(words)\n",
        "\n",
        "  return text\n",
        "\n",
        "dataset.text = [clean_text(t) for t in dataset.text]\n",
        "\n",
        "y = dataset['label']\n",
        "\n",
        "xtrain, xtest, ytrain, ytest = train_test_split( dataset['text'], y, test_size=0.2, random_state=7)"
      ],
      "metadata": {
        "id": "JR5RT78FnDAW"
      },
      "execution_count": 50,
      "outputs": []
    },
    {
      "cell_type": "markdown",
      "source": [
        "# N-Gram Model\n",
        "This Model will utilize the Count Vectorizer to determine the range of words for n-gram and vectorize the data and transform it for training and then later testing. Leverage the K-Neighbor Classifier to predict each article"
      ],
      "metadata": {
        "id": "NNBFCLg-RVW0"
      }
    },
    {
      "cell_type": "code",
      "source": [
        "\n",
        "\n",
        "v1 = CountVectorizer(max_features= 1000, ngram_range=(1, 1))\n",
        "v2 = CountVectorizer(max_features= 1000, ngram_range=(2, 2))\n",
        "v3 = CountVectorizer(max_features= 1000, ngram_range=(3, 3))\n",
        "v5 = CountVectorizer(max_features= 1000, ngram_range=(5, 5))\n",
        "\n",
        "# Vectorize \n",
        "train_v1 = v1.fit_transform(xtrain)\n",
        "test_v1 = v1.fit_transform(xtest)\n",
        "KNN_1 = KNeighborsClassifier(n_neighbors=1, algorithm='brute')\n",
        "KNN_1.fit(train_v1, ytrain)\n",
        "y1_pred= KNN_1.predict(test_v1)\n",
        "\n",
        "train_v2 = v2.fit_transform(xtrain)\n",
        "test_v2 = v2.fit_transform(xtest)\n",
        "KNN_2 = KNeighborsClassifier(n_neighbors=2, algorithm='brute')\n",
        "KNN_2.fit(train_v2, ytrain)\n",
        "y2_pred= KNN_2.predict(test_v2)\n",
        "\n",
        "train_v3 = v3.fit_transform(xtrain)\n",
        "test_v3 = v3.fit_transform(xtest)\n",
        "KNN_3 = KNeighborsClassifier(n_neighbors=3, algorithm='brute')\n",
        "KNN_3.fit(train_v3, ytrain)\n",
        "y3_pred = KNN_3.predict(test_v3)\n",
        "\n",
        "train_v5 = v5.fit_transform(xtrain)\n",
        "test_v5 = v5.fit_transform(xtest)\n",
        "KNN_5 = KNeighborsClassifier(n_neighbors=5, algorithm='brute')\n",
        "KNN_5.fit(train_v5, ytrain)\n",
        "y5_pred = KNN_5.predict(test_v5)\n",
        "\n"
      ],
      "metadata": {
        "id": "dl0oxjtRRSwZ"
      },
      "execution_count": 68,
      "outputs": []
    },
    {
      "cell_type": "markdown",
      "source": [
        "#Model Results and Conclusions\n",
        "As n increases the accuracy begins to fall in it's ability to classify the Fake News and Real News accuarelty "
      ],
      "metadata": {
        "id": "WUqBXFQ2AMZf"
      }
    },
    {
      "cell_type": "code",
      "source": [
        "score1 = accuracy_score(ytest,y1_pred)\n",
        "print(\"N-Gram 1: Accuracy: %0.3f\"%score1)\n",
        "\n",
        "\n",
        "score2 = accuracy_score(ytest,y2_pred)\n",
        "print(\"N-Gram 2: Accuracy: %0.3f\"%score2)\n",
        "\n",
        "score3 = accuracy_score(ytest,y3_pred)\n",
        "print(\"N-Gram 3: Accuracy: %0.3f\"%score3)\n",
        "\n",
        "\n",
        "score5 = accuracy_score(ytest,y5_pred)\n",
        "print(\"N-Gram 5: Accuracy: %0.3f\"%score5)\n"
      ],
      "metadata": {
        "colab": {
          "base_uri": "https://localhost:8080/"
        },
        "id": "itlV_pcc-HYG",
        "outputId": "e06dd5ca-bce8-4ac2-ae81-9165ddd8995b"
      },
      "execution_count": 76,
      "outputs": [
        {
          "output_type": "stream",
          "name": "stdout",
          "text": [
            "N-Gram 1: Accuracy: 0.686\n",
            "N-Gram 2: Accuracy: 0.617\n",
            "N-Gram 3: Accuracy: 0.574\n",
            "N-Gram 5: Accuracy: 0.503\n"
          ]
        }
      ]
    },
    {
      "cell_type": "code",
      "source": [
        "\n",
        "print(\"Unigram Highest Accuracy: %0.3f\"%score1)\n",
        "cm1 = confusion_matrix(ytest,y1_pred)\n",
        "plot_confusion_matrix(cm1,classes = ['FAKE Data','REAL Data'])"
      ],
      "metadata": {
        "colab": {
          "base_uri": "https://localhost:8080/",
          "height": 347
        },
        "id": "F60WWbFayVQu",
        "outputId": "766bf2a0-b877-4d6a-f681-7eaade235502"
      },
      "execution_count": 77,
      "outputs": [
        {
          "output_type": "stream",
          "name": "stdout",
          "text": [
            "Unigram Highest Accuracy: 0.686\n",
            "Confusion matrix, without normalization\n"
          ]
        },
        {
          "output_type": "display_data",
          "data": {
            "text/plain": [
              "<Figure size 432x288 with 2 Axes>"
            ],
            "image/png": "[encoded data removed]"
          },
          "metadata": {
            "needs_background": "light"
          }
        }
      ]
    },
    {
      "cell_type": "markdown",
      "source": [
        "#TODO: What I learned"
      ],
      "metadata": {
        "id": "VcZMDf7dqJGY"
      }
    },
    {
      "cell_type": "markdown",
      "source": [
        "Sources and References used:\n",
        "\n",
        "https://iopscience.iop.org/article/10.1088/1742-6596/2007/1/012047/pdf\n",
        "\n",
        "https://www.kaggle.com/c/fake-news/data?select=test.csv\n",
        "\n",
        "\n",
        "https://medium.com/mlearning-ai/nlp-detecting-fake-news-on-social-media-aa53ff74f2ff#d7e7\n",
        "\n",
        "https://medium.com/analytics-vidhya/fake-news-detection-using-nlp-techniques-c2dc4be05f99\n",
        "\n",
        "https://towardsdatascience.com/detecting-fake-political-news-online-a571745f73dd\n",
        "\n",
        "https://www.researchgate.net/publication/320300831_Detection_of_Online_Fake_News_Using_N-Gram_Analysis_and_Machine_Learning_Techniques"
      ],
      "metadata": {
        "id": "NqAdvweJ5W30"
      }
    }
  ]
}

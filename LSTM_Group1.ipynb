{
  "nbformat": 4,
  "nbformat_minor": 0,
  "metadata": {
    "colab": {
      "name": "LSTM-Group1",
      "provenance": [],
      "collapsed_sections": []
    },
    "kernelspec": {
      "name": "python3",
      "display_name": "Python 3"
    }
  },
  "cells": [
    {
      "cell_type": "markdown",
      "source": [
        "#Introduction\n",
        "Timothy Cantu, NRT191, I used LSTM Model for my method\n",
        "\n"
      ],
      "metadata": {
        "id": "xIoGtgMwQdvW"
      }
    },
    {
      "cell_type": "markdown",
      "metadata": {
        "id": "9wUL_Fy5qUDI"
      },
      "source": [
        "#IMPORTED LIBRARIES\n",
        "\n",
        "\n",
        "\n"
      ]
    },
    {
      "cell_type": "code",
      "metadata": {
        "id": "f9apbZGptej6",
        "colab": {
          "base_uri": "https://localhost:8080/"
        },
        "outputId": "4fe9343e-24f5-4e22-e8a6-2770057fc631"
      },
      "source": [
        "#Import libraries and connect to google drive\n",
        "import nltk\n",
        "import re\n",
        "import pandas as pd\n",
        "from nltk.corpus import stopwords\n",
        "from nltk.stem import PorterStemmer\n",
        "from keras.preprocessing.sequence import pad_sequences\n",
        "from keras.preprocessing.text import one_hot\n",
        "from tensorflow.keras.layers import Dense, Embedding, LSTM\n",
        "from tensorflow.keras.models import Sequential\n",
        "import numpy as np\n",
        "from sklearn.model_selection import train_test_split\n",
        "import seaborn as sns\n",
        "from google.colab import drive\n",
        "drive.mount('/content/drive')\n"
      ],
      "execution_count": 234,
      "outputs": [
        {
          "output_type": "stream",
          "name": "stdout",
          "text": [
            "Drive already mounted at /content/drive; to attempt to forcibly remount, call drive.mount(\"/content/drive\", force_remount=True).\n"
          ]
        }
      ]
    },
    {
      "cell_type": "code",
      "source": [
        "#Import model specific resources or libraries\n",
        "import pandas as pd\n",
        "import numpy as np\n",
        "import matplotlib.pyplot as plt\n",
        "import itertools\n",
        "import string\n",
        "\n",
        "from sklearn.model_selection import train_test_split\n",
        "from sklearn.feature_extraction.text import CountVectorizer, TfidfVectorizer\n",
        "\n",
        "from sklearn.neighbors import KNeighborsClassifier\n",
        "from sklearn.metrics import accuracy_score, confusion_matrix"
      ],
      "metadata": {
        "id": "z43fKB6Ey5nH"
      },
      "execution_count": null,
      "outputs": []
    },
    {
      "cell_type": "markdown",
      "source": [
        "##Data files used, and how the files are structured\n",
        "\n",
        "The Dataset used for this Machine Learning Model is a Kaggle Dataset consisting of Fake and Real news articles, formatted in 'csv' files. \n",
        "\n",
        "The link to the dataset is: https://www.kaggle.com/c/fake-news/data?select=test.csv\n",
        "\n",
        "Downloading the dataset will give you two file \"train.csv\" and \"test.csv\". For simplicities sake, the contents of both datasets will get combined into one larger data set in which the Model will be trained and tested with.\n",
        "\n",
        "As shown above, during the making of this Notebook the train and test csv files where loaded into the base path directory that was usued for all class assignment. This was done for consistancy with the class and for simplicity."
      ],
      "metadata": {
        "id": "P0jDiHoVfNkx"
      }
    },
    {
      "cell_type": "code",
      "source": [
        "train_data = pd.read_csv(\"/content/drive/My Drive/Colab Notebooks/Artificial Intelligence/Data/train.csv\")"
      ],
      "metadata": {
        "id": "uv60w51U6VFq"
      },
      "execution_count": null,
      "outputs": []
    },
    {
      "cell_type": "code",
      "source": [
        "train_data.dropna(inplace=True)"
      ],
      "metadata": {
        "id": "VvlLi1AK6QRE"
      },
      "execution_count": null,
      "outputs": []
    },
    {
      "cell_type": "markdown",
      "source": [
        "### Initializing object and constants\n",
        "This will set a standard for the .csv files by condensing the data"
      ],
      "metadata": {
        "id": "vitnXMAU1Lbt"
      }
    },
    {
      "cell_type": "code",
      "source": [
        "ps = PorterStemmer()\n",
        "sentence_length = 5000\n",
        "padding_length = 1000\n",
        "dimension = 100"
      ],
      "metadata": {
        "id": "yR7-RYmS6hrZ"
      },
      "execution_count": null,
      "outputs": []
    },
    {
      "cell_type": "markdown",
      "source": [
        "#Check the final dataset to make sure it is valid for usage\n",
        "\n",
        "The final dataset that will be used has 2 columns of \"text\" and \"label\". There are about 20762 total rows in the dataset, with about a 50:50 percent split between Fake and Real articles in the set. These statistics are shown below. "
      ],
      "metadata": {
        "id": "8VOrD3uZ3Q8P"
      }
    },
    {
      "cell_type": "code",
      "source": [
        "#graph the total number of fake and real articles in the final dataset\n",
        "real_or_not = dataset.label.value_counts()\n",
        "print( real_or_not )\n",
        "\n",
        "plt.figure()\n",
        "plt.bar( ['0','1'], real_or_not )\n",
        "plt.show()"
      ],
      "metadata": {
        "id": "SVf_Jw4AhduN",
        "colab": {
          "base_uri": "https://localhost:8080/",
          "height": 314
        },
        "outputId": "f0db585a-2a13-45c2-d7f5-27986541d966"
      },
      "execution_count": null,
      "outputs": [
        {
          "output_type": "stream",
          "name": "stdout",
          "text": [
            "0.0    10387\n",
            "1.0    10374\n",
            "Name: label, dtype: int64\n"
          ]
        },
        {
          "output_type": "display_data",
          "data": {
            "text/plain": [
              "<Figure size 432x288 with 1 Axes>"
            ],
            "image/png": "[encoded data removed]"
          },
          "metadata": {
            "needs_background": "light"
          }
        }
      ]
    },
    {
      "cell_type": "markdown",
      "source": [
        "## Cleaning the data\n",
        "cleaning up the data and getting it ready for the model"
      ],
      "metadata": {
        "id": "z8kpuQk51veR"
      }
    },
    {
      "cell_type": "code",
      "source": [
        "def pre_process_data(data):\n",
        "    text = data['title']\n",
        "    sentence_list = list(map(lambda x: \"\". join(ps.stem(word) for word in re.sub(\"[^A-Za-z]\", \" \", x.lower()) if word not in stopwords.words(\"english\")), text.values))\n",
        "    encoded_sentences = [one_hot(sentence, sentence_length) for sentence in sentence_list]\n",
        "    padded_sentences = pad_sequences(encoded_sentences, maxlen=padding_length, padding='pre')\n",
        "    return padded_sentences"
      ],
      "metadata": {
        "id": "AAoZoWt7HK9G"
      },
      "execution_count": null,
      "outputs": []
    },
    {
      "cell_type": "code",
      "source": [
        "sen_list = pre_process_data(train_data)"
      ],
      "metadata": {
        "id": "vhLLgp7byt34"
      },
      "execution_count": null,
      "outputs": []
    },
    {
      "cell_type": "markdown",
      "source": [
        "# LSTM Model\n",
        "\n"
      ],
      "metadata": {
        "id": "MZrJb8lM0AV6"
      }
    },
    {
      "cell_type": "code",
      "source": [
        "model = Sequential()\n",
        "model.add(Embedding(sentence_length, dimension, input_length=padding_length))\n",
        "model.add(LSTM(500))\n",
        "model.add(Dense(1, activation='sigmoid'))\n",
        "model.compile(loss='binary_crossentropy', metrics='accuracy', optimizer='adam')"
      ],
      "metadata": {
        "id": "Ypk727Q7B_et"
      },
      "execution_count": null,
      "outputs": []
    },
    {
      "cell_type": "code",
      "source": [
        "model.summary()"
      ],
      "metadata": {
        "id": "XGMTQB0x7Pyd",
        "colab": {
          "base_uri": "https://localhost:8080/"
        },
        "outputId": "5521afbf-c451-4040-fd57-60a4f415b8a4"
      },
      "execution_count": null,
      "outputs": [
        {
          "output_type": "stream",
          "name": "stdout",
          "text": [
            "Model: \"sequential_4\"\n",
            "_________________________________________________________________\n",
            " Layer (type)                Output Shape              Param #   \n",
            "=================================================================\n",
            " embedding_4 (Embedding)     (None, 1000, 100)         500000    \n",
            "                                                                 \n",
            " lstm_4 (LSTM)               (None, 500)               1202000   \n",
            "                                                                 \n",
            " dense_4 (Dense)             (None, 1)                 501       \n",
            "                                                                 \n",
            "=================================================================\n",
            "Total params: 1,702,501\n",
            "Trainable params: 1,702,501\n",
            "Non-trainable params: 0\n",
            "_________________________________________________________________\n"
          ]
        }
      ]
    },
    {
      "cell_type": "markdown",
      "source": [
        "# Redefine the input"
      ],
      "metadata": {
        "id": "njUMuJOF2C91"
      }
    },
    {
      "cell_type": "code",
      "source": [
        "x_input = np.array(sen_list)\n",
        "y_input = np.array(train_data['label'].values)"
      ],
      "metadata": {
        "id": "999iGfwI7BO0"
      },
      "execution_count": null,
      "outputs": []
    },
    {
      "cell_type": "markdown",
      "source": [
        "## Train the model\n",
        "This is taking the train.csv file and using the LSMT model to train the method."
      ],
      "metadata": {
        "id": "eQRgQxTr2IG3"
      }
    },
    {
      "cell_type": "code",
      "source": [
        "x_train, x_test, y_train, y_test = train_test_split(x_input, y_input, test_size=0.2,  =1)\n",
        "model.fit(x_train, y_train, validation_data=(x_test, y_test), epochs=2, batch_size=64)"
      ],
      "metadata": {
        "id": "3jZlt-Qbt-vk",
        "colab": {
          "base_uri": "https://localhost:8080/"
        },
        "outputId": "982bd2fd-c18a-49de-e0f5-c2a9dc23accb"
      },
      "execution_count": null,
      "outputs": [
        {
          "output_type": "stream",
          "name": "stdout",
          "text": [
            "Epoch 1/2\n",
            "229/229 [==============================] - 3961s 17s/step - loss: 0.2826 - accuracy: 0.8714 - val_loss: 0.1986 - val_accuracy: 0.9207\n",
            "Epoch 2/2\n",
            "229/229 [==============================] - 3889s 17s/step - loss: 0.1649 - accuracy: 0.9345 - val_loss: 0.1931 - val_accuracy: 0.9193\n"
          ]
        },
        {
          "output_type": "execute_result",
          "data": {
            "text/plain": [
              "<keras.callbacks.History at 0x7f92aadbd750>"
            ]
          },
          "metadata": {},
          "execution_count": 159
        }
      ]
    },
    {
      "cell_type": "markdown",
      "source": [
        "## Test data \n",
        "Now that the model has been trained, we are taking the test.csv file and predicting the outcome"
      ],
      "metadata": {
        "id": "DfFPQiXS2ZUQ"
      }
    },
    {
      "cell_type": "code",
      "source": [
        "test_data = pd.read_csv(\"/content/drive/My Drive/Colab Notebooks/Artificial Intelligence/Data/test.csv\")\n",
        "test_data.fillna(inplace=True, method='pad')"
      ],
      "metadata": {
        "id": "zdFBfv4Rt-s-"
      },
      "execution_count": 192,
      "outputs": []
    },
    {
      "cell_type": "code",
      "source": [
        "test_sentence_list = pre_process_data(test_data)\n",
        "test_input = np.array(test_sentence_list)\n",
        "test_output = model.predict(test_input)"
      ],
      "metadata": {
        "id": "TQFNAmsct-pe"
      },
      "execution_count": 201,
      "outputs": []
    },
    {
      "cell_type": "code",
      "source": [
        "classes_x = (test_output > 0.1).astype(\"int32\")"
      ],
      "metadata": {
        "id": "MzljDz8yVSoM"
      },
      "execution_count": 302,
      "outputs": []
    },
    {
      "cell_type": "code",
      "source": [
        "from sklearn.metrics import confusion_matrix\n",
        "confusion_matrix(y_test, classes_x)"
      ],
      "metadata": {
        "colab": {
          "base_uri": "https://localhost:8080/"
        },
        "id": "7az0_Ah-fYJE",
        "outputId": "1cbcdd1f-28b1-4b43-cf59-f6da0e673404"
      },
      "execution_count": 303,
      "outputs": [
        {
          "output_type": "execute_result",
          "data": {
            "text/plain": [
              "array([[ 907, 1169],\n",
              "       [ 715,  866]])"
            ]
          },
          "metadata": {},
          "execution_count": 303
        }
      ]
    },
    {
      "cell_type": "code",
      "source": [
        "#A helpful function pulled from a website (credited at the end of this Notebook) that will print out the results of the Models processing in a concise and understandable manner.\n",
        "def plot_confusion_matrix(cm, classes,\n",
        "                          normalize=False,\n",
        "                          title='Confusion matrix',\n",
        "                          cmap=plt.cm.Blues):\n",
        "    plt.imshow(cm, interpolation='nearest', cmap=cmap)\n",
        "    plt.title(title)\n",
        "    plt.colorbar()\n",
        "    tick_marks = np.arange(len(classes))\n",
        "    plt.xticks(tick_marks, classes, rotation=45)\n",
        "    plt.yticks(tick_marks, classes)\n",
        "    if normalize:\n",
        "        cm = cm.astype('float') / cm.sum(axis=1)[:, np.newaxis]\n",
        "        print(\"Normalized confusion matrix\")\n",
        "    else:\n",
        "        print('Confusion matrix, without normalization')\n",
        "    thresh = cm.max() / 2.\n",
        "    for i, j in itertools.product(range(cm.shape[0]), range(cm.shape[1])):\n",
        "        plt.text(j, i, cm[i, j],\n",
        "                  horizontalalignment=\"center\",\n",
        "                  color=\"black\" if cm[i, j] > thresh else \"black\")\n",
        "    plt.tight_layout()\n",
        "    plt.ylabel('True label')\n",
        "    plt.xlabel('Predicted label')"
      ],
      "metadata": {
        "id": "nDOHFsDPcO0b"
      },
      "execution_count": 309,
      "outputs": []
    },
    {
      "cell_type": "code",
      "source": [
        "from sklearn.metrics import confusion_matrix\n",
        "lr_cm = confusion_matrix(y_test, classes_x)\n",
        "plt.figure(figsize=(10,7))\n",
        "sns.heatmap(data=lr_cm, annot=True, cmap=\"Blues\", xticklabels=['Real', 'Fake'], yticklabels=['Real', 'Fake'])\n",
        "plt.xlabel('Predicted values')\n",
        "plt.ylabel('Actual values')\n",
        "plt.title('Confusion Matrix for Logistic Regression Algorithm')\n",
        "plt.show()"
      ],
      "metadata": {
        "colab": {
          "base_uri": "https://localhost:8080/",
          "height": 457
        },
        "id": "D_QNr4xtWJ4k",
        "outputId": "949ee2b6-751d-470f-e1d5-4c18f64c6fb0"
      },
      "execution_count": 310,
      "outputs": [
        {
          "output_type": "display_data",
          "data": {
            "text/plain": [
              "<Figure size 720x504 with 2 Axes>"
            ],
            "image/png": "[encoded data removed]"
          },
          "metadata": {
            "needs_background": "light"
          }
        }
      ]
    },
    {
      "cell_type": "code",
      "source": [
        "cm = confusion_matrix(y_test, classes_x)\n",
        "plot_confusion_matrix(cm,classes = ['FAKE Data','REAL Data'])"
      ],
      "metadata": {
        "colab": {
          "base_uri": "https://localhost:8080/",
          "height": 327
        },
        "id": "Alt2JBC6gaGb",
        "outputId": "aa7a2e24-7e76-4eb3-f29c-d30a4d678985"
      },
      "execution_count": 311,
      "outputs": [
        {
          "output_type": "stream",
          "name": "stdout",
          "text": [
            "Confusion matrix, without normalization\n"
          ]
        },
        {
          "output_type": "display_data",
          "data": {
            "text/plain": [
              "<Figure size 432x288 with 2 Axes>"
            ],
            "image/png": "[encoded data removed]"
          },
          "metadata": {
            "needs_background": "light"
          }
        }
      ]
    },
    {
      "cell_type": "markdown",
      "source": [
        "## Sources and References used:\n",
        "https://www.kaggle.com/c/fake-news/data?select=test.csv\n",
        "\n",
        "https://www.researchgate.net/publication/311990858_Attention-based_LSTM_for_Aspect-level_Sentiment_Classification\n",
        "\n",
        "https://www.kaggle.com/code/sanjayanbu/fake-news-lstm/notebook\n",
        "\n",
        "https://github.com/Aie959/AI-NLP-Fake-News\n"
      ],
      "metadata": {
        "id": "NqAdvweJ5W30"
      }
    }
  ]
}
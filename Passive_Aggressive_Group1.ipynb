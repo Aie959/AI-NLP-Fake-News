{
  "nbformat": 4,
  "nbformat_minor": 0,
  "metadata": {
    "colab": {
      "name": "Passive_Aggressive_Group1.ipynb",
      "provenance": [],
      "collapsed_sections": []
    },
    "kernelspec": {
      "name": "python3",
      "display_name": "Python 3"
    }
  },
  "cells": [
    {
      "cell_type": "markdown",
      "source": [
        "#Introduction\n",
        "\n",
        "This Colab Notebook is the work and submission of Stephen Otten, part of Group 1 for the CS 3793.001 Artificial Intelligence Group Projects of the Spring 2022 semester.\n",
        "\n",
        "This notebook implements a NLP model in the goal of text classification to identify Fake and Real news articles from a dataset. The general idea for the model comes from this reserach pdf: https://iopscience.iop.org/article/10.1088/1742-6596/2007/1/012047/pdf\n",
        "\n",
        "The NLP model, in basic, loads a formatted dataset and splits it up for training and testing portions. The words of the articles in the dataset will be turned into a matrix of words with a TF-IDF vectorizer. Finally, the model will use a Passive Aggressive Classifier in order to classify and predict the outcome of whether each article in the testing set is real or fake, the results are then analyzed to draw conclusions. "
      ],
      "metadata": {
        "id": "xIoGtgMwQdvW"
      }
    },
    {
      "cell_type": "markdown",
      "metadata": {
        "id": "9wUL_Fy5qUDI"
      },
      "source": [
        "#IMPORTED LIBRARIES\n",
        "\n",
        "\n",
        "\n"
      ]
    },
    {
      "cell_type": "code",
      "metadata": {
        "id": "f9apbZGptej6",
        "colab": {
          "base_uri": "https://localhost:8080/"
        },
        "outputId": "a380ba54-9c6d-421c-ae4a-f6a24bd539c8"
      },
      "source": [
        "#Import libraries and connect to google drive\n",
        "import pandas as pd\n",
        "import numpy as np\n",
        "import matplotlib.pyplot as plt\n",
        "import itertools\n",
        "\n",
        "from sklearn.model_selection import train_test_split\n",
        "from sklearn.feature_extraction.text import TfidfVectorizer\n",
        "\n",
        "from sklearn.linear_model import PassiveAggressiveClassifier\n",
        "from sklearn.metrics import accuracy_score, confusion_matrix, precision_score\n",
        "\n",
        "from google.colab import drive\n",
        "drive.mount('/content/drive')\n"
      ],
      "execution_count": null,
      "outputs": [
        {
          "output_type": "stream",
          "name": "stdout",
          "text": [
            "Drive already mounted at /content/drive; to attempt to forcibly remount, call drive.mount(\"/content/drive\", force_remount=True).\n"
          ]
        }
      ]
    },
    {
      "cell_type": "code",
      "metadata": {
        "id": "fdqXyFZ95P0j"
      },
      "source": [
        "#The basepath is the same as what it is in the class assignments for simplicity\n",
        "basePath = \"/content/drive/My Drive/Colab Notebooks/Artificial Intelligence/Data/\""
      ],
      "execution_count": null,
      "outputs": []
    },
    {
      "cell_type": "markdown",
      "source": [
        "##Data files used, and how the files are structured\n",
        "\n",
        "The Dataset used for this Machine Learning Model is a Kaggle Dataset consisting of Fake and Real news articles, formatted in 'csv' files. \n",
        "\n",
        "The link to the dataset is: https://www.kaggle.com/c/fake-news/data?select=test.csv\n",
        "\n",
        "Downloading the dataset will give you two file \"train.csv\" and \"test.csv\". For simplicities sake, the contents of both datasets will get combined into one larger data set in which the Model will be trained and tested with.\n",
        "\n",
        "As shown above, during the making of this Notebook the train and test csv files where loaded into the base path directory that was used for all class assignment. This was done for consistancy with the class and for simplicity."
      ],
      "metadata": {
        "id": "P0jDiHoVfNkx"
      }
    },
    {
      "cell_type": "code",
      "metadata": {
        "id": "2XoSqVJG5FkG"
      },
      "source": [
        "# Data file name variables\n",
        "train = basePath + \"train.csv\"\n",
        "test = basePath + \"test.csv\""
      ],
      "execution_count": null,
      "outputs": []
    },
    {
      "cell_type": "markdown",
      "source": [
        "The CSV files come foramtted with 5 total columns. The columns are 'id', 'title', 'author', 'text', and 'label'. \n",
        "\n",
        "    ID: The designation number of the article in the file\n",
        "    Title: Title of the associated news article\n",
        "    Author: Person who wrote the News article\n",
        "    Text: All words of the news article \n",
        "    Label: Designation of whether the news article is reliable or unreliable. O means unreliable, 1 means reliable. (These essentially refer to Fake or Real)\n",
        "\n",
        "'Train.csv' has 20799 rows in it by default. 'Test.csv' has 25999 rows in it by default."
      ],
      "metadata": {
        "id": "xF9DLSp5gK0z"
      }
    },
    {
      "cell_type": "markdown",
      "source": [
        "##Formatting the Data\n",
        "\n",
        "In order to use data of the files, it has to be prepared and formatted in a certain manner. This invovles scrubbing the id, title, and author columns from the both datasets. Also, any rows with NAN values need to be removed entirely as they are unsuitable. \n",
        "\n",
        "The next step involves combining the contents of the train and test datasets into one final dataset that will be used for the Machine Learning portion of the notebook."
      ],
      "metadata": {
        "id": "9UffZDIz2bBR"
      }
    },
    {
      "cell_type": "code",
      "metadata": {
        "id": "l73PTZtCPdxj",
        "colab": {
          "base_uri": "https://localhost:8080/",
          "height": 382
        },
        "outputId": "297033fc-366f-4a1e-e46e-30759e0c3201"
      },
      "source": [
        "# 0 = reliable, 1 = unreliable\n",
        "\n",
        "# Read the training file\n",
        "data_train = pd.read_csv( train )\n",
        "data_train = data_train.drop(['id','author','title'], 1)\n",
        "data_train.dropna( inplace=True) \n",
        "data_train.reset_index(inplace = True, drop = True)\n",
        "print( data_train.shape )\n",
        "\n",
        "# Read the testing data file\n",
        "data_test  = pd.read_csv( test )\n",
        "data_test = data_test.drop(['id','author','title'], 1)\n",
        "data_test.dropna( inplace=True) \n",
        "data_test = data_test.loc[ :, :'label']\n",
        "data_test.reset_index(inplace = True, drop = True)\n",
        "print( data_test.shape )\n",
        "\n",
        "# Combine both train and test datasets into a final dataset which is used later on\n",
        "dataset = pd.concat( [data_train, data_test], ignore_index=True)\n",
        "print( dataset.shape)\n",
        "dataset.head()"
      ],
      "execution_count": null,
      "outputs": [
        {
          "output_type": "stream",
          "name": "stderr",
          "text": [
            "/usr/local/lib/python3.7/dist-packages/ipykernel_launcher.py:5: FutureWarning: In a future version of pandas all arguments of DataFrame.drop except for the argument 'labels' will be keyword-only\n",
            "  \"\"\"\n"
          ]
        },
        {
          "output_type": "stream",
          "name": "stdout",
          "text": [
            "(20761, 2)\n"
          ]
        },
        {
          "output_type": "stream",
          "name": "stderr",
          "text": [
            "/usr/local/lib/python3.7/dist-packages/IPython/core/interactiveshell.py:2882: DtypeWarning: Columns (20,21,22,23,24,25,26,27,28,29,30,31,32,33,34,35,36,37,38,39,40,41,42,43,44,45,46,47,48,49,50,51,52,53,54,55,56,57,58,59,60,61,62,63,64,65,66,67,68,69,70,71,72,73,74,75,76,77,78,79,80,81,82,83,84,85,86,87,88,89,90,91,92,93,94,95,96,97,98,99,100,101,102,103,104,105,106,107,108,109,110,111,112,113,114,115,116,117,118,119,120,121,122,123,124,125,126,127,128,129,130,131,132,133,134,135,136,137,138,139,140,141,142,143,144,145,146,147,148,149,150,151,152,153,154,155,156,157,158,159,160,161,162,163,164,165,166,167,168,169,170,171,172,173,174,175,176,177,178,179,180,181,182,183,184,185,186,187,188,189,190,191,192,193,194,195,196,197,198,199,200,201,202,203,204,205,206,207,208,209,210,211,212,213,214,215,216,217,218,219,220,221,222,223,224,225,226,227,228,229,230,231,232,233,234,235,236,237,238,239,240,241,242,243,244,245,246,247,248,249,250,251,252,253,254,255,256,257,258,259,260,261,262,263,264,265,266,267,268,269,270,271,272,273,274,275,276,277,278,279,280,281,282,283,284,285,286,287,288,290,291,292,293,294,295,296,297,298,299,300,301,302,303,304,305,306,307,308,309,310,311,312,313,314,315,316,317,318,319,320,321,322,323,324,325,326,327,328,329,330,331,332,333,334,335,336,337,338,339,340,341,342,343,344,345,346,347,348,349,350,351,352,353,354,355,356,357,358,359,360,361,362,363,364,365,366,367,368,369,370,371,372,373,374,375,376,377,378,379,380,381,382,383,384,385,386,387,388,389,390,391,392,393,394,395,396,397,398,399,400,401,402,403,404,405,406,407,408,409,410,411,412,413,414,415,416,418,419,420,421,422,423,424,425,426,427,428,429,430,431,432,433,434,435,436,437,438,439,440,441,442,443,444,445,446,447,448,449,450,451,452,453,454,455,456,457,458,459,460,461,462,463,464,465,466,467,468,469,470,471,472,473,474,475,476,477,478,479,480,481,482,483,484,485,486,487,488,489,490,491,492,493,494,495,496,497,498,499,500,501,502,503,504,505,506,507,508,509,510,511,512,513,514,515,516,517,518,519,520,521,522,523,524,525,526,527,528,529,530,531,532,533,534,535,536,537,538,539,540,541,542,543,544,545,546,547,548,549,550,551,552,553,554,555,556,557,558,559,560,561,562,563,564,565,566,567,568,569,570,571,572,573,574,575,576,577,578,579,580,581,582,583,584,585,586,587,588,589,590,591,592,593,594,595,596,597,598,599,600,601,602,603,604,605,606,607,608,609,610,611,612,613,614,615,616,617,618,619,620,621,622,623,624,625,626,627,628,629,630,631,632,633,634,635,636,637,638,639,640,641,642,643,644,645,646,647,648,649,650,651,652,653,654,655,656,657,658,659,660,661,662,663,664,665,666,667,668,669,670,671,672,673,674,675,676,677,678,679,680,681,682,683,684,685,686,687,688,689,690,691,692,693,694,695,696,697,698,699,700,701,702,703,704,705,706,707,708,709,710,711,712,713,714,715,716,717,718,719,720,721,722,723,724,725,726,727,728,729,730,731,732,733,734,735,736,737,738,739,740,741,742,743,744,745,746) have mixed types.Specify dtype option on import or set low_memory=False.\n",
            "  exec(code_obj, self.user_global_ns, self.user_ns)\n",
            "/usr/local/lib/python3.7/dist-packages/ipykernel_launcher.py:12: FutureWarning: In a future version of pandas all arguments of DataFrame.drop except for the argument 'labels' will be keyword-only\n",
            "  if sys.path[0] == '':\n"
          ]
        },
        {
          "output_type": "stream",
          "name": "stdout",
          "text": [
            "(1, 2)\n",
            "(20762, 2)\n"
          ]
        },
        {
          "output_type": "execute_result",
          "data": {
            "text/plain": [
              "                                                text  label\n",
              "0  House Dem Aide: We Didn’t Even See Comey’s Let...    1.0\n",
              "1  Ever get the feeling your life circles the rou...    0.0\n",
              "2  Why the Truth Might Get You Fired October 29, ...    1.0\n",
              "3  Videos 15 Civilians Killed In Single US Airstr...    1.0\n",
              "4  Print \\nAn Iranian woman has been sentenced to...    1.0"
            ],
            "text/html": [
              "\n",
              "  <div id=\"df-7c35a107-cf3f-4926-8855-63053d645bfc\">\n",
              "    <div class=\"colab-df-container\">\n",
              "      <div>\n",
              "<style scoped>\n",
              "    .dataframe tbody tr th:only-of-type {\n",
              "        vertical-align: middle;\n",
              "    }\n",
              "\n",
              "    .dataframe tbody tr th {\n",
              "        vertical-align: top;\n",
              "    }\n",
              "\n",
              "    .dataframe thead th {\n",
              "        text-align: right;\n",
              "    }\n",
              "</style>\n",
              "<table border=\"1\" class=\"dataframe\">\n",
              "  <thead>\n",
              "    <tr style=\"text-align: right;\">\n",
              "      <th></th>\n",
              "      <th>text</th>\n",
              "      <th>label</th>\n",
              "    </tr>\n",
              "  </thead>\n",
              "  <tbody>\n",
              "    <tr>\n",
              "      <th>0</th>\n",
              "      <td>House Dem Aide: We Didn’t Even See Comey’s Let...</td>\n",
              "      <td>1.0</td>\n",
              "    </tr>\n",
              "    <tr>\n",
              "      <th>1</th>\n",
              "      <td>Ever get the feeling your life circles the rou...</td>\n",
              "      <td>0.0</td>\n",
              "    </tr>\n",
              "    <tr>\n",
              "      <th>2</th>\n",
              "      <td>Why the Truth Might Get You Fired October 29, ...</td>\n",
              "      <td>1.0</td>\n",
              "    </tr>\n",
              "    <tr>\n",
              "      <th>3</th>\n",
              "      <td>Videos 15 Civilians Killed In Single US Airstr...</td>\n",
              "      <td>1.0</td>\n",
              "    </tr>\n",
              "    <tr>\n",
              "      <th>4</th>\n",
              "      <td>Print \\nAn Iranian woman has been sentenced to...</td>\n",
              "      <td>1.0</td>\n",
              "    </tr>\n",
              "  </tbody>\n",
              "</table>\n",
              "</div>\n",
              "      <button class=\"colab-df-convert\" onclick=\"convertToInteractive('df-7c35a107-cf3f-4926-8855-63053d645bfc')\"\n",
              "              title=\"Convert this dataframe to an interactive table.\"\n",
              "              style=\"display:none;\">\n",
              "        \n",
              "  <svg xmlns=\"http://www.w3.org/2000/svg\" height=\"24px\"viewBox=\"0 0 24 24\"\n",
              "       width=\"24px\">\n",
              "    <path d=\"M0 0h24v24H0V0z\" fill=\"none\"/>\n",
              "    <path d=\"M18.56 5.44l.94 2.06.94-2.06 2.06-.94-2.06-.94-.94-2.06-.94 2.06-2.06.94zm-11 1L8.5 8.5l.94-2.06 2.06-.94-2.06-.94L8.5 2.5l-.94 2.06-2.06.94zm10 10l.94 2.06.94-2.06 2.06-.94-2.06-.94-.94-2.06-.94 2.06-2.06.94z\"/><path d=\"M17.41 7.96l-1.37-1.37c-.4-.4-.92-.59-1.43-.59-.52 0-1.04.2-1.43.59L10.3 9.45l-7.72 7.72c-.78.78-.78 2.05 0 2.83L4 21.41c.39.39.9.59 1.41.59.51 0 1.02-.2 1.41-.59l7.78-7.78 2.81-2.81c.8-.78.8-2.07 0-2.86zM5.41 20L4 18.59l7.72-7.72 1.47 1.35L5.41 20z\"/>\n",
              "  </svg>\n",
              "      </button>\n",
              "      \n",
              "  <style>\n",
              "    .colab-df-container {\n",
              "      display:flex;\n",
              "      flex-wrap:wrap;\n",
              "      gap: 12px;\n",
              "    }\n",
              "\n",
              "    .colab-df-convert {\n",
              "      background-color: #E8F0FE;\n",
              "      border: none;\n",
              "      border-radius: 50%;\n",
              "      cursor: pointer;\n",
              "      display: none;\n",
              "      fill: #1967D2;\n",
              "      height: 32px;\n",
              "      padding: 0 0 0 0;\n",
              "      width: 32px;\n",
              "    }\n",
              "\n",
              "    .colab-df-convert:hover {\n",
              "      background-color: #E2EBFA;\n",
              "      box-shadow: 0px 1px 2px rgba(60, 64, 67, 0.3), 0px 1px 3px 1px rgba(60, 64, 67, 0.15);\n",
              "      fill: #174EA6;\n",
              "    }\n",
              "\n",
              "    [theme=dark] .colab-df-convert {\n",
              "      background-color: #3B4455;\n",
              "      fill: #D2E3FC;\n",
              "    }\n",
              "\n",
              "    [theme=dark] .colab-df-convert:hover {\n",
              "      background-color: #434B5C;\n",
              "      box-shadow: 0px 1px 3px 1px rgba(0, 0, 0, 0.15);\n",
              "      filter: drop-shadow(0px 1px 2px rgba(0, 0, 0, 0.3));\n",
              "      fill: #FFFFFF;\n",
              "    }\n",
              "  </style>\n",
              "\n",
              "      <script>\n",
              "        const buttonEl =\n",
              "          document.querySelector('#df-7c35a107-cf3f-4926-8855-63053d645bfc button.colab-df-convert');\n",
              "        buttonEl.style.display =\n",
              "          google.colab.kernel.accessAllowed ? 'block' : 'none';\n",
              "\n",
              "        async function convertToInteractive(key) {\n",
              "          const element = document.querySelector('#df-7c35a107-cf3f-4926-8855-63053d645bfc');\n",
              "          const dataTable =\n",
              "            await google.colab.kernel.invokeFunction('convertToInteractive',\n",
              "                                                     [key], {});\n",
              "          if (!dataTable) return;\n",
              "\n",
              "          const docLinkHtml = 'Like what you see? Visit the ' +\n",
              "            '<a target=\"_blank\" href=https://colab.research.google.com/notebooks/data_table.ipynb>data table notebook</a>'\n",
              "            + ' to learn more about interactive tables.';\n",
              "          element.innerHTML = '';\n",
              "          dataTable['output_type'] = 'display_data';\n",
              "          await google.colab.output.renderOutput(dataTable, element);\n",
              "          const docLink = document.createElement('div');\n",
              "          docLink.innerHTML = docLinkHtml;\n",
              "          element.appendChild(docLink);\n",
              "        }\n",
              "      </script>\n",
              "    </div>\n",
              "  </div>\n",
              "  "
            ]
          },
          "metadata": {},
          "execution_count": 16
        }
      ]
    },
    {
      "cell_type": "markdown",
      "source": [
        "#Check the final dataset to make sure it is valid for usage\n",
        "\n",
        "The final dataset that will be used has 2 columns of \"text\" and \"label\". There are about 20762 total rows in the dataset, with about a 50:50 percent split between Fake and Real articles in the set. These statistics are shown below. "
      ],
      "metadata": {
        "id": "8VOrD3uZ3Q8P"
      }
    },
    {
      "cell_type": "code",
      "source": [
        "#graph the total number of fake and real articles in the final dataset\n",
        "real_or_not = dataset.label.value_counts()\n",
        "print( real_or_not )\n",
        "\n",
        "plt.figure()\n",
        "plt.bar( ['0','1'], real_or_not )\n",
        "plt.show()"
      ],
      "metadata": {
        "id": "SVf_Jw4AhduN",
        "colab": {
          "base_uri": "https://localhost:8080/",
          "height": 317
        },
        "outputId": "ea90a485-71ad-494c-ca2e-0aa6bbf11f99"
      },
      "execution_count": null,
      "outputs": [
        {
          "output_type": "stream",
          "name": "stdout",
          "text": [
            "0.0    10388\n",
            "1.0    10374\n",
            "Name: label, dtype: int64\n"
          ]
        },
        {
          "output_type": "display_data",
          "data": {
            "text/plain": [
              "<Figure size 432x288 with 1 Axes>"
            ],
            "image/png": "[encoded data removed]"
          },
          "metadata": {
            "needs_background": "light"
          }
        }
      ]
    },
    {
      "cell_type": "markdown",
      "source": [
        "The dataset is lastly checked so that no NaN values are present. The ouptut of the next cell is empty because there are no NaN values present."
      ],
      "metadata": {
        "id": "ip32DkYHkalb"
      }
    },
    {
      "cell_type": "code",
      "source": [
        "dataset[dataset.isnull().any(axis=1)]"
      ],
      "metadata": {
        "colab": {
          "base_uri": "https://localhost:8080/",
          "height": 49
        },
        "id": "AAoZoWt7HK9G",
        "outputId": "aa19d13b-b941-44a1-8d66-ee00e69138cc"
      },
      "execution_count": null,
      "outputs": [
        {
          "output_type": "execute_result",
          "data": {
            "text/plain": [
              "Empty DataFrame\n",
              "Columns: [text, label]\n",
              "Index: []"
            ],
            "text/html": [
              "\n",
              "  <div id=\"df-c8034012-dbd1-440c-a108-30d234c39e46\">\n",
              "    <div class=\"colab-df-container\">\n",
              "      <div>\n",
              "<style scoped>\n",
              "    .dataframe tbody tr th:only-of-type {\n",
              "        vertical-align: middle;\n",
              "    }\n",
              "\n",
              "    .dataframe tbody tr th {\n",
              "        vertical-align: top;\n",
              "    }\n",
              "\n",
              "    .dataframe thead th {\n",
              "        text-align: right;\n",
              "    }\n",
              "</style>\n",
              "<table border=\"1\" class=\"dataframe\">\n",
              "  <thead>\n",
              "    <tr style=\"text-align: right;\">\n",
              "      <th></th>\n",
              "      <th>text</th>\n",
              "      <th>label</th>\n",
              "    </tr>\n",
              "  </thead>\n",
              "  <tbody>\n",
              "  </tbody>\n",
              "</table>\n",
              "</div>\n",
              "      <button class=\"colab-df-convert\" onclick=\"convertToInteractive('df-c8034012-dbd1-440c-a108-30d234c39e46')\"\n",
              "              title=\"Convert this dataframe to an interactive table.\"\n",
              "              style=\"display:none;\">\n",
              "        \n",
              "  <svg xmlns=\"http://www.w3.org/2000/svg\" height=\"24px\"viewBox=\"0 0 24 24\"\n",
              "       width=\"24px\">\n",
              "    <path d=\"M0 0h24v24H0V0z\" fill=\"none\"/>\n",
              "    <path d=\"M18.56 5.44l.94 2.06.94-2.06 2.06-.94-2.06-.94-.94-2.06-.94 2.06-2.06.94zm-11 1L8.5 8.5l.94-2.06 2.06-.94-2.06-.94L8.5 2.5l-.94 2.06-2.06.94zm10 10l.94 2.06.94-2.06 2.06-.94-2.06-.94-.94-2.06-.94 2.06-2.06.94z\"/><path d=\"M17.41 7.96l-1.37-1.37c-.4-.4-.92-.59-1.43-.59-.52 0-1.04.2-1.43.59L10.3 9.45l-7.72 7.72c-.78.78-.78 2.05 0 2.83L4 21.41c.39.39.9.59 1.41.59.51 0 1.02-.2 1.41-.59l7.78-7.78 2.81-2.81c.8-.78.8-2.07 0-2.86zM5.41 20L4 18.59l7.72-7.72 1.47 1.35L5.41 20z\"/>\n",
              "  </svg>\n",
              "      </button>\n",
              "      \n",
              "  <style>\n",
              "    .colab-df-container {\n",
              "      display:flex;\n",
              "      flex-wrap:wrap;\n",
              "      gap: 12px;\n",
              "    }\n",
              "\n",
              "    .colab-df-convert {\n",
              "      background-color: #E8F0FE;\n",
              "      border: none;\n",
              "      border-radius: 50%;\n",
              "      cursor: pointer;\n",
              "      display: none;\n",
              "      fill: #1967D2;\n",
              "      height: 32px;\n",
              "      padding: 0 0 0 0;\n",
              "      width: 32px;\n",
              "    }\n",
              "\n",
              "    .colab-df-convert:hover {\n",
              "      background-color: #E2EBFA;\n",
              "      box-shadow: 0px 1px 2px rgba(60, 64, 67, 0.3), 0px 1px 3px 1px rgba(60, 64, 67, 0.15);\n",
              "      fill: #174EA6;\n",
              "    }\n",
              "\n",
              "    [theme=dark] .colab-df-convert {\n",
              "      background-color: #3B4455;\n",
              "      fill: #D2E3FC;\n",
              "    }\n",
              "\n",
              "    [theme=dark] .colab-df-convert:hover {\n",
              "      background-color: #434B5C;\n",
              "      box-shadow: 0px 1px 3px 1px rgba(0, 0, 0, 0.15);\n",
              "      filter: drop-shadow(0px 1px 2px rgba(0, 0, 0, 0.3));\n",
              "      fill: #FFFFFF;\n",
              "    }\n",
              "  </style>\n",
              "\n",
              "      <script>\n",
              "        const buttonEl =\n",
              "          document.querySelector('#df-c8034012-dbd1-440c-a108-30d234c39e46 button.colab-df-convert');\n",
              "        buttonEl.style.display =\n",
              "          google.colab.kernel.accessAllowed ? 'block' : 'none';\n",
              "\n",
              "        async function convertToInteractive(key) {\n",
              "          const element = document.querySelector('#df-c8034012-dbd1-440c-a108-30d234c39e46');\n",
              "          const dataTable =\n",
              "            await google.colab.kernel.invokeFunction('convertToInteractive',\n",
              "                                                     [key], {});\n",
              "          if (!dataTable) return;\n",
              "\n",
              "          const docLinkHtml = 'Like what you see? Visit the ' +\n",
              "            '<a target=\"_blank\" href=https://colab.research.google.com/notebooks/data_table.ipynb>data table notebook</a>'\n",
              "            + ' to learn more about interactive tables.';\n",
              "          element.innerHTML = '';\n",
              "          dataTable['output_type'] = 'display_data';\n",
              "          await google.colab.output.renderOutput(dataTable, element);\n",
              "          const docLink = document.createElement('div');\n",
              "          docLink.innerHTML = docLinkHtml;\n",
              "          element.appendChild(docLink);\n",
              "        }\n",
              "      </script>\n",
              "    </div>\n",
              "  </div>\n",
              "  "
            ]
          },
          "metadata": {},
          "execution_count": 18
        }
      ]
    },
    {
      "cell_type": "markdown",
      "source": [
        "##Supervised Machine Learning \n",
        "\n",
        "From this point on is where the actual Machine Learning and predictions of the Notebook will occur.\n",
        "\n",
        "The next cell includes a helpful function which will be used later to display the results of the machine learning on the testing set in a understandable manner (Hargurjeet).\n",
        "\n"
      ],
      "metadata": {
        "id": "u41CZ87okvTM"
      }
    },
    {
      "cell_type": "code",
      "source": [
        "#A helpful function pulled from a websitethat will print out the results of the Models processing in a concise and understandable manner.\n",
        "def plot_confusion_matrix(cm, classes,\n",
        "                          normalize=False,\n",
        "                          title='Confusion matrix',\n",
        "                          cmap=plt.cm.Blues):\n",
        "    plt.imshow(cm, interpolation='nearest', cmap=cmap)\n",
        "    plt.title(title)\n",
        "    plt.colorbar()\n",
        "    tick_marks = np.arange(len(classes))\n",
        "    plt.xticks(tick_marks, classes, rotation=45)\n",
        "    plt.yticks(tick_marks, classes)\n",
        "    if normalize:\n",
        "        cm = cm.astype('float') / cm.sum(axis=1)[:, np.newaxis]\n",
        "        print(\"Normalized confusion matrix\")\n",
        "    else:\n",
        "        print('Confusion matrix, without normalization')\n",
        "    thresh = cm.max() / 2.\n",
        "    for i, j in itertools.product(range(cm.shape[0]), range(cm.shape[1])):\n",
        "        plt.text(j, i, cm[i, j],\n",
        "                  horizontalalignment=\"center\",\n",
        "                  color=\"white\" if cm[i, j] > thresh else \"black\")\n",
        "    plt.tight_layout()\n",
        "    plt.ylabel('True label')\n",
        "    plt.xlabel('Predicted label')"
      ],
      "metadata": {
        "id": "8hYsvFoF1Rgl"
      },
      "execution_count": null,
      "outputs": []
    },
    {
      "cell_type": "markdown",
      "source": [
        "#Split the dataset into testing and training\n",
        "The next cell shows the dataset being partitioned into training, and testing sets ( 80% for training, 20% for testing ) that will be used for the Model."
      ],
      "metadata": {
        "id": "0qNXWPSymn5G"
      }
    },
    {
      "cell_type": "code",
      "source": [
        "y = dataset['label']\n",
        "xtrain, xtest, ytrain, ytest = train_test_split( dataset['text'], y, test_size=0.2, random_state=7)"
      ],
      "metadata": {
        "id": "JR5RT78FnDAW"
      },
      "execution_count": null,
      "outputs": []
    },
    {
      "cell_type": "markdown",
      "source": [
        "#TF-IDF Vectorizer\n",
        "The model uses a TF-IDF vectorizer in order to determine the importance of words. TF is 'term frequency' which totals the occurances of a word across an entire article. IDF is 'inverse document frequency' which looks for the total occurances of words across all the news articles (Wadhwa). TF-IDF works by constructing a matrix of the most common words used in all the documents and totaling the occurances of each word. The matrix constructed of all term frequencies is used later in the model to identify term importance. "
      ],
      "metadata": {
        "id": "Edv2IUWqnU22"
      }
    },
    {
      "cell_type": "code",
      "source": [
        "TF_matrix = TfidfVectorizer( stop_words='english', max_df=0.7)\n",
        "\n",
        "TF_train = TF_matrix.fit_transform( xtrain )\n",
        "TF_test = TF_matrix.transform( xtest )"
      ],
      "metadata": {
        "id": "qIg6B-99u-gu"
      },
      "execution_count": null,
      "outputs": []
    },
    {
      "cell_type": "markdown",
      "source": [
        "#Passive Aggressive Classifier\n",
        "The Model uses a Passive-Aggressive Classifier in order to make predictions on the testing portion of the dataset, after being trained with the training set.\n",
        "\n",
        "Passive Aggressive operates by being passive when predictions are correct and no changes need to be made to the Model. It is aggressive when classification predictions are wrong and changes to the model need to be made (Wadhwa)."
      ],
      "metadata": {
        "id": "oZ2bPlyMnVPu"
      }
    },
    {
      "cell_type": "code",
      "source": [
        "PA_model = PassiveAggressiveClassifier( max_iter = 50)\n",
        "PA_model.fit( TF_train, ytrain)"
      ],
      "metadata": {
        "colab": {
          "base_uri": "https://localhost:8080/"
        },
        "id": "0uric8GnxOW-",
        "outputId": "3ea1fb5e-023b-47f8-d3cb-9bcb11a3a8ff"
      },
      "execution_count": null,
      "outputs": [
        {
          "output_type": "execute_result",
          "data": {
            "text/plain": [
              "PassiveAggressiveClassifier(max_iter=50)"
            ]
          },
          "metadata": {},
          "execution_count": 22
        }
      ]
    },
    {
      "cell_type": "markdown",
      "source": [
        "#Model Results and Conclusions\n",
        "The results of the Model come out with around a ~95% accuracy. This is after running the test on the dataset multiple times. The model runs remarkably well possibly due in part to the size of dataset being not very big. The training the model underwent with 80% of the dataset seems to have given the model a very good idea of what it needs to look for in discerning real from fake news articles."
      ],
      "metadata": {
        "id": "WUqBXFQ2AMZf"
      }
    },
    {
      "cell_type": "code",
      "source": [
        "#Total predictions made with the testing set\n",
        "print( \"Total Predictions Made:\", ytest.shape[0])\n",
        "\n",
        "#accuracy of the testing\n",
        "#accuracy shows in total how many predictions were correct\n",
        "y_prediction = PA_model.predict( TF_test )\n",
        "accuracy = accuracy_score( ytest, y_prediction )\n",
        "print( \"Accuracy: %0.3f\" %accuracy )\n",
        "\n",
        "\n",
        "#plot the confusion matrix\n",
        "confuse_matrix = confusion_matrix( ytest, y_prediction )\n",
        "plot_confusion_matrix(confuse_matrix, classes = ['FAKE','REAL'])"
      ],
      "metadata": {
        "colab": {
          "base_uri": "https://localhost:8080/",
          "height": 363
        },
        "id": "F60WWbFayVQu",
        "outputId": "04fb4164-4cc0-48fa-a9c4-68143d52752f"
      },
      "execution_count": null,
      "outputs": [
        {
          "output_type": "stream",
          "name": "stdout",
          "text": [
            "Total Predictions Made: 4153\n",
            "Accuracy: 0.960\n",
            "Confusion matrix, without normalization\n"
          ]
        },
        {
          "output_type": "display_data",
          "data": {
            "text/plain": [
              "<Figure size 432x288 with 2 Axes>"
            ],
            "image/png": "[encoded data removed]"
          },
          "metadata": {
            "needs_background": "light"
          }
        }
      ]
    },
    {
      "cell_type": "markdown",
      "source": [
        "#Conclusion: What was learned\n",
        "\n",
        "The results gathered from the Model working on the testing set show that this model has promise in discerning Fake news articles from Real news articles. The results also imply that this Model could be used for discerning variations of other types of texts, not just real or fake news articles.\n",
        "\n",
        "TF-IDF Word Vectorization is a well renowed way of categorizing the importance of words across a group of documents. It is well suited to use in a ML model to guage the importance of words across all of the articles. This helps associate which words are likely to be used in the search for fake or real news.\n",
        "\n",
        "The Passive Aggressive Classifier is not the best or first option that is usually used for ML models. This classifier is situationally used in which other classifiers might bot be preferable. Passive Aggressive seems like an optimal choice to combine with TF-IDF Word vectorization. The classifier can make very good predictions based on the data heavy word matrix that is formed from TF-IDF. The classifier also makes good use of its corrective aspect, always making changes to the model when predictions are found to be wrong.\n",
        "\n",
        "For datasets that are much larger than the set used for this notebook, I suspect that the Model would continue to do its job rather well in making correct predictions. The Passive Aggressive classifier is inherently designed to always be taking in new or more data to process and always adapt the model to the new data if changes need to be made (Passive Aggressive Classifiers). It would be worth it to train the model on a much larger dataset and then let the model continuously run with those training weights and make changes on its own. The Passive Aggressive classifier is a very good choice in NLP where it involves classification of a body of text to a type."
      ],
      "metadata": {
        "id": "VcZMDf7dqJGY"
      }
    },
    {
      "cell_type": "markdown",
      "source": [
        "Works Cited:\n",
        "\n",
        "J. Shobana and D. Kanchana 2021 J. Phys.: Conf. Ser. 2007 012047\n",
        "\n",
        "\n",
        "https://www.kaggle.com/c/fake-news/data?select=test.csv\n",
        "\n",
        "\n",
        "George, Joyce. “Fake News Detection using NLP techniques”, Medium, 14 Jun 2020.\thttps://medium.com/analytics-vidhya/fake-news-detection-using-nlp-techniques-\tc2dc4be05f99. Accessed April 8, 2022.\n",
        "\n",
        "Hargurjeet. “NLP – Detecting Fake News on Social Media”, Medium, 9 Jun 2021.\thttps://medium.com/mlearning-ai/nlp-detecting-fake-news-on-social-media-\taa53ff74f2ff#d7e7. Accessed April 8, 2022.\n",
        "\n",
        "“Passive Aggressive Classifiers”, GeeksforGeeks, 17 Jul, 2020. \thttps://www.geeksforgeeks.org/passive-aggressive-classifiers/. Accessed April 10, 2022.\n",
        "\n",
        "Sriram. “Passive Aggressive Algorithm – For Big Data models”, Medium, 13 Jun 2021. \thttps://medium.com/geekculture/passive-aggressive-algorithm-for-big-data-models-\t8cd535ceb2e6. Accessed April 7, 2022.\n",
        "\n",
        "Wadhwa, Laisha. “Detecting Fake Political News Online”, Towards Data Science, 16 Nov, \t2019. https://towardsdatascience.com/detecting-fake-political-news-online-\ta571745f73dd. Accessed April 11, 2022.\n"
      ],
      "metadata": {
        "id": "NqAdvweJ5W30"
      }
    }
  ]
}